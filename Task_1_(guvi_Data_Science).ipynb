{
  "nbformat": 4,
  "nbformat_minor": 0,
  "metadata": {
    "colab": {
      "name": "Task_1 (guvi Data Science)",
      "provenance": []
    },
    "kernelspec": {
      "name": "python3",
      "display_name": "Python 3"
    },
    "language_info": {
      "name": "python"
    }
  },
  "cells": [
    {
      "cell_type": "code",
      "execution_count": 1,
      "metadata": {
        "colab": {
          "base_uri": "https://localhost:8080/"
        },
        "id": "0DmIfXaTfR_A",
        "outputId": "a229c67a-64dc-4b29-96a6-b1e4c539b1ee"
      },
      "outputs": [
        {
          "output_type": "stream",
          "name": "stdout",
          "text": [
            "Mounted at /content/drive\n"
          ]
        }
      ],
      "source": [
        "from google.colab import drive\n",
        "drive.mount('/content/drive')"
      ]
    },
    {
      "cell_type": "code",
      "source": [
        "F = open(\"/content/sample_data/Database1\",\"w\")\n",
        "F.write(\"\")\n",
        "F.close()"
      ],
      "metadata": {
        "id": "jfeUyprxmg1k"
      },
      "execution_count": 17,
      "outputs": []
    },
    {
      "cell_type": "code",
      "source": [
        "def register():\n",
        "  username=input('Please enter username or Email_id: ')\n",
        "  for i in range(0,len(username)):\n",
        "    if ((i==0 and username[i]=='@')or(username[i]=='@' and username[i+1]=='.')or(i==0 and username[i].isdigit())or(i==0 and (username[i]=='&' or username[i]=='!' or username[i]=='%' or username[i]=='#'))):\n",
        "      print('Invalid username, Please enter valid Username')\n",
        "      register()\n",
        "  password=input('Enter password: \\n Your password must contain at least 5 characters or at most 16\\nIt must contain a Uppercase, Special character , Digit , lower case')\n",
        "  digit=0\n",
        "  special_char=0\n",
        "  small_letters=0\n",
        "  capital_letters=0\n",
        "  for i in range(0,len(password)):\n",
        "    if(password[i]=='!' or password[i]=='%' or password[i]=='#' or password[i]=='&' or password[i]=='@' ):\n",
        "      special_char+=1\n",
        "    if(password[i].isupper()):\n",
        "      capital_letters+=1\n",
        "    if(password[i].islower()):\n",
        "      small_letters+=1\n",
        "    if(password[i].isdigit()):\n",
        "      digit+=1\n",
        "  if((len(password)>5 and len(password)<=16) and special_char>=1 and digit>=1 and small_letters>=1 and capital_letters>=1):\n",
        "    print('Registered successfully!')\n",
        "    db=open(\"/content/sample_data/Database1\", \"a\")\n",
        "    data=username+','+password\n",
        "    db.write(data)\n",
        "    db.write('\\n')\n",
        "    db.close()\n",
        "    db=open(\"/content/sample_data/Database1\", \"r\")\n",
        "    print(db.read())\n",
        "    \n",
        "  else:\n",
        "    print('Password is not matching please register again')\n",
        "    register()\n",
        "    \n",
        "    \n",
        "ss='false'\n",
        "i=input('Welcome! \\n Please select one option: \\n Press 1 : for Creating new account \\n Press 2 : for login \\n press n : for Exit \\n:')\n",
        "if i=='1':\n",
        "  register()\n",
        "if i=='2':\n",
        "  i=input('Would you like to login? enter Y or N: ?')\n",
        "  if i=='N':\n",
        "    print('Goodbye!')\n",
        "  if i=='Y':\n",
        "    user_name=input('Please Enter Username/Email_id: ')\n",
        "    pass_word=input('Please Enter the password: ')\n",
        "    db=open(\"/content/sample_data/Database1\", \"r\")\n",
        "  \n",
        "    for s in db:\n",
        "      a,b=s.split(\",\")\n",
        "      b=b.strip()\n",
        "      if(user_name==a and pass_word==b):\n",
        "        print('Login Successful!')\n",
        "        ss='true'\n",
        "        exit()\n",
        "      if(user_name==a and pass_word!=b):\n",
        "        print('Password is Wrong.')\n",
        "        l=input('Would you like to click forgot password. Enter Yes/NO : ')\n",
        "        if l=='Yes':\n",
        "          print('your password is ',b)\n",
        "          ss='true'\n",
        "          break\n",
        "        else:\n",
        "          print('No forgot password is requested')\n",
        "          ss='true'\n",
        "          break\n",
        "    if(ss=='false'):\n",
        "      print('Details not found. Please register')"
      ],
      "metadata": {
        "colab": {
          "base_uri": "https://localhost:8080/"
        },
        "id": "avjNnf1ZmpMm",
        "outputId": "36950206-7b7d-40a9-9c55-8de3527f08ec"
      },
      "execution_count": 19,
      "outputs": [
        {
          "name": "stdout",
          "output_type": "stream",
          "text": [
            "Welcome! \n",
            " Please select one option: \n",
            " Press 1 : for Creating new account \n",
            " Press 2 : for login \n",
            " press n : for Exit \n",
            ":n\n"
          ]
        }
      ]
    },
    {
      "cell_type": "code",
      "source": [
        ""
      ],
      "metadata": {
        "id": "_oLnAf_Rm4gz"
      },
      "execution_count": null,
      "outputs": []
    }
  ]
}