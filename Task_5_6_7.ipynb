{
  "cells": [
    {
      "cell_type": "code",
      "execution_count": 1,
      "metadata": {
        "id": "C8Si0bhBE0w4"
      },
      "outputs": [],
      "source": [
        "import pandas as pd\n",
        "import matplotlib.pyplot as plt\n",
        "import numpy as np\n",
        "from sklearn import linear_model"
      ]
    },
    {
      "cell_type": "markdown",
      "metadata": {
        "id": "s53NV4gGE0w8"
      },
      "source": [
        "# Assignment5\n"
      ]
    },
    {
      "cell_type": "markdown",
      "metadata": {
        "id": "Bt4doE8_E0w9"
      },
      "source": [
        "## Ground Cricket Chirps\n",
        "\n",
        "In _The Song of Insects_ (1948) by George W. Pierce, Pierce mechanically measured the frequency (the number of wing vibrations per second) of chirps (or pulses of sound) made by a striped ground cricket, at various ground temperatures.  Since crickets are ectotherms (cold-blooded), the rate of their physiological processes and their overall metabolism are influenced by temperature.  Consequently, there is reason to believe that temperature would have a profound effect on aspects of their behavior, such as chirp frequency.\n",
        "\n",
        "In general, it was found that crickets did not sing at temperatures colder than 60º F. or warmer than 100º F."
      ]
    },
    {
      "cell_type": "code",
      "execution_count": 2,
      "metadata": {
        "id": "UasgJYJAE0w-"
      },
      "outputs": [],
      "source": [
        "ground_cricket_data = {\"Chirps/Second\": [20.0, 16.0, 19.8, 18.4, 17.1, 15.5, 14.7,\n",
        "                                         15.7, 15.4, 16.3, 15.0, 17.2, 16.0, 17.0,\n",
        "                                         14.4],\n",
        "                       \"Ground Temperature\": [88.6, 71.6, 93.3, 84.3, 80.6, 75.2, 69.7,\n",
        "                                              71.6, 69.4, 83.3, 79.6, 82.6, 80.6, 83.5,\n",
        "                                              76.3]}\n",
        "df = pd.DataFrame(ground_cricket_data)"
      ]
    },
    {
      "cell_type": "markdown",
      "metadata": {
        "id": "Spm6YlYME0w_"
      },
      "source": [
        "### Tasks\n",
        "\n",
        "1. Find the linear regression equation for this data.\n",
        "2. Chart the original data and the equation on the chart.\n",
        "3. Find the equation's $R^2$ score (use the `.score` method) to determine whether the\n",
        "equation is a good fit for this data. (0.8 and greater is considered a strong correlation.)\n",
        "4. Extrapolate data:  If the ground temperature reached 95, then at what approximate rate would you expect the crickets to be chirping?\n",
        "5. Interpolate data:  With a listening device, you discovered that on a particular morning the crickets were chirping at a rate of 18 chirps per second.  What was the approximate ground temperature that morning? "
      ]
    },
    {
      "cell_type": "code",
      "source": [
        "#1.Find the linear regression equation for this data.\n",
        "regr_gc = linear_model.LinearRegression()\n",
        "ground_temp = df[[\"Ground Temperature\"]]\n",
        "chirps_sec = df['Chirps/Second']\n",
        "regr_gc.fit(ground_temp,chirps_sec)\n",
        "print('Linear Regression Equation : y= {:.4f}*x+{:.4f}'.format(regr_gc.coef_[0],regr_gc.intercept_))\n"
      ],
      "metadata": {
        "id": "nm7JUY5MGLag",
        "colab": {
          "base_uri": "https://localhost:8080/"
        },
        "outputId": "7c324056-edc8-4e2a-9276-bb797a916861"
      },
      "execution_count": 3,
      "outputs": [
        {
          "output_type": "stream",
          "name": "stdout",
          "text": [
            "Linear Regression Equation : y= 0.2030*x+0.4593\n"
          ]
        }
      ]
    },
    {
      "cell_type": "code",
      "source": [
        "#2.Chart the original data and the equation on the chart.\n",
        "plt.scatter(ground_temp,chirps_sec,color='m')\n",
        "plt.plot(ground_temp, regr_gc.predict(ground_temp))\n",
        "plt.title(\"Ground Cricket Chirps/Sec by Ground Temperature\")\n",
        "plt.xlabel(\"'Ground Temp (˚F)'\")\n",
        "plt.ylabel(\"Chirps/Sec\")\n",
        "plt.show()"
      ],
      "metadata": {
        "colab": {
          "base_uri": "https://localhost:8080/",
          "height": 296
        },
        "id": "ThszKz2oIuN1",
        "outputId": "1a79ee93-ab6c-4689-adc3-d21f40a80252"
      },
      "execution_count": 6,
      "outputs": [
        {
          "output_type": "display_data",
          "data": {
            "text/plain": [
              "<Figure size 432x288 with 1 Axes>"
            ],
            "image/png": "[encoded data removed]"
          },
          "metadata": {
            "needs_background": "light"
          }
        }
      ]
    },
    {
      "cell_type": "code",
      "source": [
        "#3.Find the equation's  R2  score (use the .score method) to determine whether the equation is a good fit for this data. (0.8 and greater is considered a strong correlation.)\n",
        "print('R^2 score for this equation: {:.4f}'\n",
        "      .format(regr_gc.score(ground_temp, chirps_sec)))"
      ],
      "metadata": {
        "colab": {
          "base_uri": "https://localhost:8080/"
        },
        "id": "i6mlG1-FJvDv",
        "outputId": "5467b3a9-65b1-43c6-9ec3-ac4e994d24dd"
      },
      "execution_count": 7,
      "outputs": [
        {
          "output_type": "stream",
          "name": "stdout",
          "text": [
            "R^2 score for this equation: 0.6923\n"
          ]
        }
      ]
    },
    {
      "cell_type": "markdown",
      "source": [
        "Because this is below 0.8,this is not a good fit for the data."
      ],
      "metadata": {
        "id": "mmxEZDQWKDa-"
      }
    },
    {
      "cell_type": "code",
      "source": [
        "# 4. Extrapolate data: If the ground temperature reached 95, then at what approximate rate would you expect the crickets to be chirping?\n",
        "print('At 95˚F, our approximation of chirps/sec is: {:.4f}'\n",
        "      .format(regr_gc.predict(95)[0]))"
      ],
      "metadata": {
        "id": "HkwTUIRJKQBG"
      },
      "execution_count": null,
      "outputs": []
    },
    {
      "cell_type": "markdown",
      "metadata": {
        "id": "oOco2NURE0w_"
      },
      "source": [
        "# Assignment6"
      ]
    },
    {
      "cell_type": "markdown",
      "metadata": {
        "id": "e8Uq3wWUE0xA"
      },
      "source": [
        "## Brain vs. Body Weight\n",
        "\n",
        "In the file `brain_body.txt`, the average brain and body weight for a number of mammal species are recorded. Load this data into a Pandas data frame.\n",
        "\n",
        "### Tasks\n",
        "\n",
        "1. Find the linear regression equation for this data for brain weight to body weight.\n",
        "2. Chart the original data and the equation on the chart.\n",
        "3. Find the equation's $R^2$ score (use the `.score` method) to determine whether the\n",
        "equation is a good fit for this data. (0.8 and greater is considered a strong correlation.)"
      ]
    },
    {
      "cell_type": "code",
      "execution_count": 12,
      "metadata": {
        "id": "QgRpgXsFE0xB"
      },
      "outputs": [],
      "source": [
        "df = pd.read_fwf(\"brain_body.txt\")"
      ]
    },
    {
      "cell_type": "code",
      "source": [
        "df.head()"
      ],
      "metadata": {
        "colab": {
          "base_uri": "https://localhost:8080/",
          "height": 206
        },
        "id": "Qu7SDBVJMQyf",
        "outputId": "c0cf22ad-d726-437c-da0d-cf5ef6641d13"
      },
      "execution_count": 13,
      "outputs": [
        {
          "output_type": "execute_result",
          "data": {
            "text/plain": [
              "     Brain   Body\n",
              "0    3.385   44.5\n",
              "1    0.480   15.5\n",
              "2    1.350    8.1\n",
              "3  465.000  423.0\n",
              "4   36.330  119.5"
            ],
            "text/html": [
              "\n",
              "  <div id=\"df-3ba3afdc-eec7-4979-a813-3cbcb6b11edf\">\n",
              "    <div class=\"colab-df-container\">\n",
              "      <div>\n",
              "<style scoped>\n",
              "    .dataframe tbody tr th:only-of-type {\n",
              "        vertical-align: middle;\n",
              "    }\n",
              "\n",
              "    .dataframe tbody tr th {\n",
              "        vertical-align: top;\n",
              "    }\n",
              "\n",
              "    .dataframe thead th {\n",
              "        text-align: right;\n",
              "    }\n",
              "</style>\n",
              "<table border=\"1\" class=\"dataframe\">\n",
              "  <thead>\n",
              "    <tr style=\"text-align: right;\">\n",
              "      <th></th>\n",
              "      <th>Brain</th>\n",
              "      <th>Body</th>\n",
              "    </tr>\n",
              "  </thead>\n",
              "  <tbody>\n",
              "    <tr>\n",
              "      <th>0</th>\n",
              "      <td>3.385</td>\n",
              "      <td>44.5</td>\n",
              "    </tr>\n",
              "    <tr>\n",
              "      <th>1</th>\n",
              "      <td>0.480</td>\n",
              "      <td>15.5</td>\n",
              "    </tr>\n",
              "    <tr>\n",
              "      <th>2</th>\n",
              "      <td>1.350</td>\n",
              "      <td>8.1</td>\n",
              "    </tr>\n",
              "    <tr>\n",
              "      <th>3</th>\n",
              "      <td>465.000</td>\n",
              "      <td>423.0</td>\n",
              "    </tr>\n",
              "    <tr>\n",
              "      <th>4</th>\n",
              "      <td>36.330</td>\n",
              "      <td>119.5</td>\n",
              "    </tr>\n",
              "  </tbody>\n",
              "</table>\n",
              "</div>\n",
              "      <button class=\"colab-df-convert\" onclick=\"convertToInteractive('df-3ba3afdc-eec7-4979-a813-3cbcb6b11edf')\"\n",
              "              title=\"Convert this dataframe to an interactive table.\"\n",
              "              style=\"display:none;\">\n",
              "        \n",
              "  <svg xmlns=\"http://www.w3.org/2000/svg\" height=\"24px\"viewBox=\"0 0 24 24\"\n",
              "       width=\"24px\">\n",
              "    <path d=\"M0 0h24v24H0V0z\" fill=\"none\"/>\n",
              "    <path d=\"M18.56 5.44l.94 2.06.94-2.06 2.06-.94-2.06-.94-.94-2.06-.94 2.06-2.06.94zm-11 1L8.5 8.5l.94-2.06 2.06-.94-2.06-.94L8.5 2.5l-.94 2.06-2.06.94zm10 10l.94 2.06.94-2.06 2.06-.94-2.06-.94-.94-2.06-.94 2.06-2.06.94z\"/><path d=\"M17.41 7.96l-1.37-1.37c-.4-.4-.92-.59-1.43-.59-.52 0-1.04.2-1.43.59L10.3 9.45l-7.72 7.72c-.78.78-.78 2.05 0 2.83L4 21.41c.39.39.9.59 1.41.59.51 0 1.02-.2 1.41-.59l7.78-7.78 2.81-2.81c.8-.78.8-2.07 0-2.86zM5.41 20L4 18.59l7.72-7.72 1.47 1.35L5.41 20z\"/>\n",
              "  </svg>\n",
              "      </button>\n",
              "      \n",
              "  <style>\n",
              "    .colab-df-container {\n",
              "      display:flex;\n",
              "      flex-wrap:wrap;\n",
              "      gap: 12px;\n",
              "    }\n",
              "\n",
              "    .colab-df-convert {\n",
              "      background-color: #E8F0FE;\n",
              "      border: none;\n",
              "      border-radius: 50%;\n",
              "      cursor: pointer;\n",
              "      display: none;\n",
              "      fill: #1967D2;\n",
              "      height: 32px;\n",
              "      padding: 0 0 0 0;\n",
              "      width: 32px;\n",
              "    }\n",
              "\n",
              "    .colab-df-convert:hover {\n",
              "      background-color: #E2EBFA;\n",
              "      box-shadow: 0px 1px 2px rgba(60, 64, 67, 0.3), 0px 1px 3px 1px rgba(60, 64, 67, 0.15);\n",
              "      fill: #174EA6;\n",
              "    }\n",
              "\n",
              "    [theme=dark] .colab-df-convert {\n",
              "      background-color: #3B4455;\n",
              "      fill: #D2E3FC;\n",
              "    }\n",
              "\n",
              "    [theme=dark] .colab-df-convert:hover {\n",
              "      background-color: #434B5C;\n",
              "      box-shadow: 0px 1px 3px 1px rgba(0, 0, 0, 0.15);\n",
              "      filter: drop-shadow(0px 1px 2px rgba(0, 0, 0, 0.3));\n",
              "      fill: #FFFFFF;\n",
              "    }\n",
              "  </style>\n",
              "\n",
              "      <script>\n",
              "        const buttonEl =\n",
              "          document.querySelector('#df-3ba3afdc-eec7-4979-a813-3cbcb6b11edf button.colab-df-convert');\n",
              "        buttonEl.style.display =\n",
              "          google.colab.kernel.accessAllowed ? 'block' : 'none';\n",
              "\n",
              "        async function convertToInteractive(key) {\n",
              "          const element = document.querySelector('#df-3ba3afdc-eec7-4979-a813-3cbcb6b11edf');\n",
              "          const dataTable =\n",
              "            await google.colab.kernel.invokeFunction('convertToInteractive',\n",
              "                                                     [key], {});\n",
              "          if (!dataTable) return;\n",
              "\n",
              "          const docLinkHtml = 'Like what you see? Visit the ' +\n",
              "            '<a target=\"_blank\" href=https://colab.research.google.com/notebooks/data_table.ipynb>data table notebook</a>'\n",
              "            + ' to learn more about interactive tables.';\n",
              "          element.innerHTML = '';\n",
              "          dataTable['output_type'] = 'display_data';\n",
              "          await google.colab.output.renderOutput(dataTable, element);\n",
              "          const docLink = document.createElement('div');\n",
              "          docLink.innerHTML = docLinkHtml;\n",
              "          element.appendChild(docLink);\n",
              "        }\n",
              "      </script>\n",
              "    </div>\n",
              "  </div>\n",
              "  "
            ]
          },
          "metadata": {},
          "execution_count": 13
        }
      ]
    },
    {
      "cell_type": "code",
      "source": [
        "regr_bb = linear_model.LinearRegression()\n",
        "body = df[['Body']]\n",
        "brain = df['Brain']\n",
        "regr_bb.fit(body, brain)"
      ],
      "metadata": {
        "colab": {
          "base_uri": "https://localhost:8080/"
        },
        "id": "Re5ajlk6MgW2",
        "outputId": "9b3fba16-14be-4910-ac72-470880e9c642"
      },
      "execution_count": 15,
      "outputs": [
        {
          "output_type": "execute_result",
          "data": {
            "text/plain": [
              "LinearRegression()"
            ]
          },
          "metadata": {},
          "execution_count": 15
        }
      ]
    },
    {
      "cell_type": "code",
      "source": [
        "# 1. Find the linear regression equation for this data for brain weight to body weight.\n",
        "print('Linear Regression Equation: y = {:.4f} * x + {:.4f}'\n",
        "      .format(regr_bb.coef_[0], regr_bb.intercept_))"
      ],
      "metadata": {
        "colab": {
          "base_uri": "https://localhost:8080/"
        },
        "id": "5lXREmQ3M2Ne",
        "outputId": "3f3cb408-cb58-49db-b603-4704f38692c7"
      },
      "execution_count": 16,
      "outputs": [
        {
          "output_type": "stream",
          "name": "stdout",
          "text": [
            "Linear Regression Equation: y = 0.9029 * x + -56.8555\n"
          ]
        }
      ]
    },
    {
      "cell_type": "code",
      "source": [
        "# 2. Chart the original data and the equation on the chart.\n",
        "plt.scatter(body, brain, color='m')\n",
        "plt.plot(body, regr_bb.predict(body))\n",
        "plt.title('Brain Weight by Body Weight')\n",
        "plt.xlabel('Body Weight')\n",
        "plt.ylabel('Brain Weight')\n",
        "plt.show()"
      ],
      "metadata": {
        "colab": {
          "base_uri": "https://localhost:8080/",
          "height": 295
        },
        "id": "Cxzl1tAaM_vN",
        "outputId": "bf8387cb-94f2-425b-9648-fd04cd5bc288"
      },
      "execution_count": 17,
      "outputs": [
        {
          "output_type": "display_data",
          "data": {
            "text/plain": [
              "<Figure size 432x288 with 1 Axes>"
            ],
            "image/png": "[encoded data removed]"
          },
          "metadata": {
            "needs_background": "light"
          }
        }
      ]
    },
    {
      "cell_type": "code",
      "source": [
        "# 3. Find the equation's  R2  score (use the .score method) to determine whether the equation is a good fit for this data. (0.8 and greater is considered a strong correlation.)\n",
        "print('R^2 score for the equation {:.4f}'\n",
        "      .format(regr_bb.score(body,brain)))"
      ],
      "metadata": {
        "colab": {
          "base_uri": "https://localhost:8080/"
        },
        "id": "xdpDiMWWNIrf",
        "outputId": "0a7728a5-ef17-4d7c-a94e-c78dec217456"
      },
      "execution_count": 18,
      "outputs": [
        {
          "output_type": "stream",
          "name": "stdout",
          "text": [
            "R^2 score for the equation 0.8727\n"
          ]
        }
      ]
    },
    {
      "cell_type": "markdown",
      "source": [
        "The Score is grater then 0.8, so it is a good fit for this data."
      ],
      "metadata": {
        "id": "jaBpMvX9NwPe"
      }
    },
    {
      "cell_type": "markdown",
      "metadata": {
        "id": "pV7zSZWFE0xB"
      },
      "source": [
        "# Assignment7"
      ]
    },
    {
      "cell_type": "markdown",
      "metadata": {
        "id": "q1jAfV9aE0xC"
      },
      "source": [
        "## Salary Discrimination\n",
        "\n",
        "The file `salary.txt` contains data for 52 tenure-track professors at a small Midwestern college. This data was used in legal proceedings in the 1980s about discrimination against women in salary.\n",
        "\n",
        "The data in the file, by column:\n",
        "\n",
        "1. Sex. 1 for female, 0 for male.\n",
        "2. Rank. 1 for assistant professor, 2 for associate professor, 3 for full professor.\n",
        "3. Year. Number of years in current rank.\n",
        "4. Degree. Highest degree. 1 for doctorate, 0 for master's.\n",
        "5. YSdeg. Years since highest degree was earned.\n",
        "6. Salary. Salary/year in dollars.\n",
        "\n",
        "### Tasks\n",
        "\n",
        "1. Find the linear regression equation for this data using columns 1-5 to column 6.\n",
        "2. Find the selection of columns with the best $R^2$ score.\n",
        "3. Report whether sex is a factor in salary."
      ]
    },
    {
      "cell_type": "code",
      "execution_count": 20,
      "metadata": {
        "id": "AoPTS9zIE0xC"
      },
      "outputs": [],
      "source": [
        "df = pd.read_fwf(\"salary.txt\", header=None, \n",
        "                 names=[\"Sex\", \"Rank\", \"Year\", \"Degree\", \"YSdeg\", \"Salary\"])"
      ]
    },
    {
      "cell_type": "code",
      "source": [
        "salary_discrim_cols = ['Sex', 'Rank', 'Year', 'Degree', 'YSdeg']"
      ],
      "metadata": {
        "id": "c5EK1R0fN_IM"
      },
      "execution_count": 21,
      "outputs": []
    },
    {
      "cell_type": "code",
      "source": [
        "def lin_reg_eq_print(salary_discrim_cols, df):\n",
        "    input_cols = df[salary_discrim_cols]\n",
        "    salary = df['Salary']\n",
        "    regr_sd = linear_model.LinearRegression()\n",
        "    regr_sd.fit(input_cols, salary)\n",
        "    print('The equation for columns {} with respect to Salary:\\n'\n",
        "          '{} + {}'.format(salary_discrim_cols, regr_sd.coef_, regr_sd.intercept_))"
      ],
      "metadata": {
        "id": "ri4Jc29VOWKf"
      },
      "execution_count": 22,
      "outputs": []
    },
    {
      "cell_type": "code",
      "source": [
        "df.head()"
      ],
      "metadata": {
        "colab": {
          "base_uri": "https://localhost:8080/",
          "height": 206
        },
        "id": "sgohsv5rObE5",
        "outputId": "6b468336-6bb1-42a9-93f0-01726307af68"
      },
      "execution_count": 23,
      "outputs": [
        {
          "output_type": "execute_result",
          "data": {
            "text/plain": [
              "   Sex  Rank  Year  Degree  YSdeg  Salary\n",
              "0    0     3    25       1     35   36350\n",
              "1    0     3    13       1     22   35350\n",
              "2    0     3    10       1     23   28200\n",
              "3    1     3     7       1     27   26775\n",
              "4    0     3    19       0     30   33696"
            ],
            "text/html": [
              "\n",
              "  <div id=\"df-062daa40-7349-4a2c-89d5-a1000975388b\">\n",
              "    <div class=\"colab-df-container\">\n",
              "      <div>\n",
              "<style scoped>\n",
              "    .dataframe tbody tr th:only-of-type {\n",
              "        vertical-align: middle;\n",
              "    }\n",
              "\n",
              "    .dataframe tbody tr th {\n",
              "        vertical-align: top;\n",
              "    }\n",
              "\n",
              "    .dataframe thead th {\n",
              "        text-align: right;\n",
              "    }\n",
              "</style>\n",
              "<table border=\"1\" class=\"dataframe\">\n",
              "  <thead>\n",
              "    <tr style=\"text-align: right;\">\n",
              "      <th></th>\n",
              "      <th>Sex</th>\n",
              "      <th>Rank</th>\n",
              "      <th>Year</th>\n",
              "      <th>Degree</th>\n",
              "      <th>YSdeg</th>\n",
              "      <th>Salary</th>\n",
              "    </tr>\n",
              "  </thead>\n",
              "  <tbody>\n",
              "    <tr>\n",
              "      <th>0</th>\n",
              "      <td>0</td>\n",
              "      <td>3</td>\n",
              "      <td>25</td>\n",
              "      <td>1</td>\n",
              "      <td>35</td>\n",
              "      <td>36350</td>\n",
              "    </tr>\n",
              "    <tr>\n",
              "      <th>1</th>\n",
              "      <td>0</td>\n",
              "      <td>3</td>\n",
              "      <td>13</td>\n",
              "      <td>1</td>\n",
              "      <td>22</td>\n",
              "      <td>35350</td>\n",
              "    </tr>\n",
              "    <tr>\n",
              "      <th>2</th>\n",
              "      <td>0</td>\n",
              "      <td>3</td>\n",
              "      <td>10</td>\n",
              "      <td>1</td>\n",
              "      <td>23</td>\n",
              "      <td>28200</td>\n",
              "    </tr>\n",
              "    <tr>\n",
              "      <th>3</th>\n",
              "      <td>1</td>\n",
              "      <td>3</td>\n",
              "      <td>7</td>\n",
              "      <td>1</td>\n",
              "      <td>27</td>\n",
              "      <td>26775</td>\n",
              "    </tr>\n",
              "    <tr>\n",
              "      <th>4</th>\n",
              "      <td>0</td>\n",
              "      <td>3</td>\n",
              "      <td>19</td>\n",
              "      <td>0</td>\n",
              "      <td>30</td>\n",
              "      <td>33696</td>\n",
              "    </tr>\n",
              "  </tbody>\n",
              "</table>\n",
              "</div>\n",
              "      <button class=\"colab-df-convert\" onclick=\"convertToInteractive('df-062daa40-7349-4a2c-89d5-a1000975388b')\"\n",
              "              title=\"Convert this dataframe to an interactive table.\"\n",
              "              style=\"display:none;\">\n",
              "        \n",
              "  <svg xmlns=\"http://www.w3.org/2000/svg\" height=\"24px\"viewBox=\"0 0 24 24\"\n",
              "       width=\"24px\">\n",
              "    <path d=\"M0 0h24v24H0V0z\" fill=\"none\"/>\n",
              "    <path d=\"M18.56 5.44l.94 2.06.94-2.06 2.06-.94-2.06-.94-.94-2.06-.94 2.06-2.06.94zm-11 1L8.5 8.5l.94-2.06 2.06-.94-2.06-.94L8.5 2.5l-.94 2.06-2.06.94zm10 10l.94 2.06.94-2.06 2.06-.94-2.06-.94-.94-2.06-.94 2.06-2.06.94z\"/><path d=\"M17.41 7.96l-1.37-1.37c-.4-.4-.92-.59-1.43-.59-.52 0-1.04.2-1.43.59L10.3 9.45l-7.72 7.72c-.78.78-.78 2.05 0 2.83L4 21.41c.39.39.9.59 1.41.59.51 0 1.02-.2 1.41-.59l7.78-7.78 2.81-2.81c.8-.78.8-2.07 0-2.86zM5.41 20L4 18.59l7.72-7.72 1.47 1.35L5.41 20z\"/>\n",
              "  </svg>\n",
              "      </button>\n",
              "      \n",
              "  <style>\n",
              "    .colab-df-container {\n",
              "      display:flex;\n",
              "      flex-wrap:wrap;\n",
              "      gap: 12px;\n",
              "    }\n",
              "\n",
              "    .colab-df-convert {\n",
              "      background-color: #E8F0FE;\n",
              "      border: none;\n",
              "      border-radius: 50%;\n",
              "      cursor: pointer;\n",
              "      display: none;\n",
              "      fill: #1967D2;\n",
              "      height: 32px;\n",
              "      padding: 0 0 0 0;\n",
              "      width: 32px;\n",
              "    }\n",
              "\n",
              "    .colab-df-convert:hover {\n",
              "      background-color: #E2EBFA;\n",
              "      box-shadow: 0px 1px 2px rgba(60, 64, 67, 0.3), 0px 1px 3px 1px rgba(60, 64, 67, 0.15);\n",
              "      fill: #174EA6;\n",
              "    }\n",
              "\n",
              "    [theme=dark] .colab-df-convert {\n",
              "      background-color: #3B4455;\n",
              "      fill: #D2E3FC;\n",
              "    }\n",
              "\n",
              "    [theme=dark] .colab-df-convert:hover {\n",
              "      background-color: #434B5C;\n",
              "      box-shadow: 0px 1px 3px 1px rgba(0, 0, 0, 0.15);\n",
              "      filter: drop-shadow(0px 1px 2px rgba(0, 0, 0, 0.3));\n",
              "      fill: #FFFFFF;\n",
              "    }\n",
              "  </style>\n",
              "\n",
              "      <script>\n",
              "        const buttonEl =\n",
              "          document.querySelector('#df-062daa40-7349-4a2c-89d5-a1000975388b button.colab-df-convert');\n",
              "        buttonEl.style.display =\n",
              "          google.colab.kernel.accessAllowed ? 'block' : 'none';\n",
              "\n",
              "        async function convertToInteractive(key) {\n",
              "          const element = document.querySelector('#df-062daa40-7349-4a2c-89d5-a1000975388b');\n",
              "          const dataTable =\n",
              "            await google.colab.kernel.invokeFunction('convertToInteractive',\n",
              "                                                     [key], {});\n",
              "          if (!dataTable) return;\n",
              "\n",
              "          const docLinkHtml = 'Like what you see? Visit the ' +\n",
              "            '<a target=\"_blank\" href=https://colab.research.google.com/notebooks/data_table.ipynb>data table notebook</a>'\n",
              "            + ' to learn more about interactive tables.';\n",
              "          element.innerHTML = '';\n",
              "          dataTable['output_type'] = 'display_data';\n",
              "          await google.colab.output.renderOutput(dataTable, element);\n",
              "          const docLink = document.createElement('div');\n",
              "          docLink.innerHTML = docLinkHtml;\n",
              "          element.appendChild(docLink);\n",
              "        }\n",
              "      </script>\n",
              "    </div>\n",
              "  </div>\n",
              "  "
            ]
          },
          "metadata": {},
          "execution_count": 23
        }
      ]
    },
    {
      "cell_type": "code",
      "source": [
        "#1. Find the linear regression equation for this data using columns 1-5 to column 6.\n",
        "lin_reg_eq_print(salary_discrim_cols, df)"
      ],
      "metadata": {
        "colab": {
          "base_uri": "https://localhost:8080/"
        },
        "id": "_3cvJwgbOnZy",
        "outputId": "83974ebb-e54a-4bf4-f013-53ad6128145e"
      },
      "execution_count": 34,
      "outputs": [
        {
          "output_type": "stream",
          "name": "stdout",
          "text": [
            "The equation for columns ['Sex', 'Rank', 'Year', 'Degree', 'YSdeg'] with respect to Salary:\n",
            "[ 1241.7924996   5586.18144952   482.85976783 -1331.64406341\n",
            "  -128.79057354] + 11410.14654725559\n"
          ]
        }
      ]
    },
    {
      "cell_type": "code",
      "source": [
        "def lin_reg_wrt_focus(salary_discrim_cols, df, focus='Salary'):\n",
        "    input_cols = df[salary_discrim_cols]\n",
        "    focus_output = df[focus]\n",
        "    regr_sd = linear_model.LinearRegression()\n",
        "    regr_sd.fit(input_cols, focus_output)\n",
        "    return regr_sd.score(input_cols, focus_output)"
      ],
      "metadata": {
        "id": "J3Zv8VmhOumS"
      },
      "execution_count": 63,
      "outputs": []
    },
    {
      "cell_type": "code",
      "source": [
        "# 2. Find the selection of columns with the best  R2  score.\n",
        "print('R^2 score for equation using all columns: {}'\n",
        "      .format(lin_reg_wrt_focus(salary_discrim_cols, df)))"
      ],
      "metadata": {
        "colab": {
          "base_uri": "https://localhost:8080/"
        },
        "id": "Q8KS_uDFeQAg",
        "outputId": "156cd9e1-6c95-4a2c-f8e5-8bcab91acffe"
      },
      "execution_count": 36,
      "outputs": [
        {
          "output_type": "stream",
          "name": "stdout",
          "text": [
            "R^2 score for equation using all columns: 0.8547180674410969\n"
          ]
        }
      ]
    },
    {
      "cell_type": "code",
      "source": [
        "def get_combos(cols):\n",
        "    return [it.combinations(cols, n + 1) for n in range(len(cols))]"
      ],
      "metadata": {
        "id": "OTIB5Kx8fT5z"
      },
      "execution_count": 37,
      "outputs": []
    },
    {
      "cell_type": "code",
      "source": [
        "import itertools as it\n",
        "combos = get_combos(salary_discrim_cols)"
      ],
      "metadata": {
        "id": "T-SbIa8jfytU"
      },
      "execution_count": 39,
      "outputs": []
    },
    {
      "cell_type": "code",
      "source": [
        "def all_combo_scores(combos, df, focus='Salary'):\n",
        "    combo_scores = {}\n",
        "    for m in range(len(list(combos))):\n",
        "        for n in list(combos[m]):\n",
        "            combo_scores[lin_reg_wrt_focus(list(n), df, focus)] = n\n",
        "    return combo_scores"
      ],
      "metadata": {
        "id": "UYSZBmzqf0gs"
      },
      "execution_count": 40,
      "outputs": []
    },
    {
      "cell_type": "code",
      "source": [
        "combo_scores = all_combo_scores(combos, df)\n",
        "sorted(combo_scores.items(), key=lambda c: c[0], reverse=True)"
      ],
      "metadata": {
        "colab": {
          "base_uri": "https://localhost:8080/"
        },
        "id": "9LnpugSBf4St",
        "outputId": "db3619eb-2125-4ec2-fc2b-d573caa804ee"
      },
      "execution_count": 41,
      "outputs": [
        {
          "output_type": "execute_result",
          "data": {
            "text/plain": [
              "[(0.8547180674410969, ('Sex', 'Rank', 'Year', 'Degree', 'YSdeg')),\n",
              " (0.8490366192262851, ('Sex', 'Rank', 'Year', 'YSdeg')),\n",
              " (0.8485077204335426, ('Rank', 'Year', 'Degree', 'YSdeg')),\n",
              " (0.8456725764485598, ('Rank', 'Year', 'YSdeg')),\n",
              " (0.845547641297936, ('Sex', 'Rank', 'Year', 'Degree')),\n",
              " (0.8454319861987166, ('Sex', 'Rank', 'Year')),\n",
              " (0.8437395200874137, ('Rank', 'Year', 'Degree')),\n",
              " (0.8436480933264597, ('Rank', 'Year')),\n",
              " (0.7671813414350668, ('Sex', 'Rank', 'Degree', 'YSdeg')),\n",
              " (0.7666122610227071, ('Sex', 'Rank', 'YSdeg')),\n",
              " (0.7625149185326454, ('Rank', 'Degree', 'YSdeg')),\n",
              " (0.7623948189698249, ('Rank', 'YSdeg')),\n",
              " (0.7583144768153613, ('Sex', 'Rank', 'Degree')),\n",
              " (0.7557961688386643, ('Rank', 'Degree')),\n",
              " (0.7554917749443395, ('Sex', 'Rank')),\n",
              " (0.7525360539274633, ('Rank',)),\n",
              " (0.6311597502907436, ('Sex', 'Year', 'Degree', 'YSdeg')),\n",
              " (0.6236261611533503, ('Year', 'Degree', 'YSdeg')),\n",
              " (0.5832708257660315, ('Sex', 'Degree', 'YSdeg')),\n",
              " (0.5808063918180405, ('Sex', 'Year', 'YSdeg')),\n",
              " (0.5782019226431887, ('Year', 'YSdeg')),\n",
              " (0.5409662288237875, ('Degree', 'YSdeg')),\n",
              " (0.4930479271966782, ('Sex', 'YSdeg')),\n",
              " (0.49207944757472966, ('Sex', 'Year', 'Degree')),\n",
              " (0.4919014149016441, ('Year', 'Degree')),\n",
              " (0.4911360941886388, ('Sex', 'Year')),\n",
              " (0.49093702676921624, ('Year',)),\n",
              " (0.45542813458360276, ('YSdeg',)),\n",
              " (0.06643739842018881, ('Sex', 'Degree')),\n",
              " (0.06389892583288004, ('Sex',)),\n",
              " (0.004861680984748373, ('Degree',))]"
            ]
          },
          "metadata": {},
          "execution_count": 41
        }
      ]
    },
    {
      "cell_type": "markdown",
      "source": [
        "The selection with the best R^2 score is: Sex, Rank, Year, Degree, YSdeg: 0.85471806744109691 (as seen above)"
      ],
      "metadata": {
        "id": "a6iqtBDsgmut"
      }
    },
    {
      "cell_type": "markdown",
      "source": [
        "However, although including all of the columns produces the highest R^2 score, there are two dominant factors: Year and Rank. Just these two factors taken together have a score of 0.84364809332645985."
      ],
      "metadata": {
        "id": "16T0Sv_1gtZa"
      }
    },
    {
      "cell_type": "code",
      "source": [
        "# 3. Report whether sex is a factor in salary.\n"
      ],
      "metadata": {
        "id": "nuTL0VrSf7B-"
      },
      "execution_count": 42,
      "outputs": []
    },
    {
      "cell_type": "markdown",
      "source": [
        "It is worth noting that Sex on its own has a score very close to zero (0.063898925832880038), indicating that it has no direct influence on salary."
      ],
      "metadata": {
        "id": "ZfRiOhb5hh7J"
      }
    },
    {
      "cell_type": "code",
      "source": [
        "num_by_sex = df.Sex.value_counts()\n",
        "print('Num men: {}\\nNum women: {}'.format(num_by_sex[0], num_by_sex[1]))"
      ],
      "metadata": {
        "colab": {
          "base_uri": "https://localhost:8080/"
        },
        "id": "JxHxCLXchccW",
        "outputId": "18244f2b-e9d2-401f-f7d6-717c77fd275c"
      },
      "execution_count": 44,
      "outputs": [
        {
          "output_type": "stream",
          "name": "stdout",
          "text": [
            "Num men: 38\n",
            "Num women: 14\n"
          ]
        }
      ]
    },
    {
      "cell_type": "code",
      "source": [
        "df.pivot_table(index=df.index, columns='Sex', values='Salary') \\\n",
        "    .plot(kind='hist', alpha=0.7, stacked=True, bins=20, title='Salary by Sex')\n",
        "plt.xlabel('Dollars')\n",
        "plt.ylabel('Faculty')\n",
        "plt.show()"
      ],
      "metadata": {
        "colab": {
          "base_uri": "https://localhost:8080/",
          "height": 295
        },
        "id": "T-4ArRe2hliz",
        "outputId": "6c3753d1-da8f-46ad-f60c-5d61be618817"
      },
      "execution_count": 46,
      "outputs": [
        {
          "output_type": "display_data",
          "data": {
            "text/plain": [
              "<Figure size 432x288 with 1 Axes>"
            ],
            "image/png": "[encoded data removed]"
          },
          "metadata": {
            "needs_background": "light"
          }
        }
      ]
    },
    {
      "cell_type": "code",
      "source": [
        "df.pivot_table(index=df.index, columns='Sex', values='Rank') \\\n",
        "    .plot(kind='hist', alpha=0.7, stacked=True, title='Rank by Sex')\n",
        "plt.xticks([1, 2, 3])\n",
        "plt.xlabel('Rank')\n",
        "plt.ylabel('Faculty')\n",
        "plt.show()"
      ],
      "metadata": {
        "colab": {
          "base_uri": "https://localhost:8080/",
          "height": 295
        },
        "id": "gF5w6X1ghtM1",
        "outputId": "0e527166-7268-4b52-d5ec-833c0814cf2c"
      },
      "execution_count": 47,
      "outputs": [
        {
          "output_type": "display_data",
          "data": {
            "text/plain": [
              "<Figure size 432x288 with 1 Axes>"
            ],
            "image/png": "[encoded data removed]"
          },
          "metadata": {
            "needs_background": "light"
          }
        }
      ]
    },
    {
      "cell_type": "code",
      "source": [
        "df.pivot_table(index=df.index, columns='Sex', values='Year') \\\n",
        "    .plot(kind='hist', alpha=0.7, stacked=True, bins=12,\n",
        "          title='Years in Rank by Sex')\n",
        "plt.xlabel('Years')\n",
        "plt.ylabel('Faculty')\n",
        "plt.show()"
      ],
      "metadata": {
        "colab": {
          "base_uri": "https://localhost:8080/",
          "height": 295
        },
        "id": "fy1KkDNwh3FN",
        "outputId": "1d318b3c-00c1-407c-8862-22dac7195f31"
      },
      "execution_count": 49,
      "outputs": [
        {
          "output_type": "display_data",
          "data": {
            "text/plain": [
              "<Figure size 432x288 with 1 Axes>"
            ],
            "image/png": "[encoded data removed]"
          },
          "metadata": {
            "needs_background": "light"
          }
        }
      ]
    },
    {
      "cell_type": "markdown",
      "source": [
        "The women at this university have only been at their present rank for at most 10 years; let's compare with the men who have a similar number of years."
      ],
      "metadata": {
        "id": "1oyoiFkGiHAM"
      }
    },
    {
      "cell_type": "markdown",
      "source": [
        "#Comparing Men and Women with Similar Number of Years"
      ],
      "metadata": {
        "id": "oxAs3HhKiOPa"
      }
    },
    {
      "cell_type": "code",
      "source": [
        "df_10 = df[df['Year'] <= 10]"
      ],
      "metadata": {
        "id": "BX4mFxX3h5-G"
      },
      "execution_count": 54,
      "outputs": []
    },
    {
      "cell_type": "code",
      "source": [
        "combos_10 = get_combos(salary_discrim_cols)\n",
        "combo_10_scores = all_combo_scores(combos_10, df_10)\n",
        "sorted(combo_10_scores.items(), key=lambda c: c[0], reverse=True)"
      ],
      "metadata": {
        "colab": {
          "base_uri": "https://localhost:8080/"
        },
        "id": "ZposANujiTkE",
        "outputId": "ce13c396-43ae-4df9-ec9e-e6bd820ce302"
      },
      "execution_count": 56,
      "outputs": [
        {
          "output_type": "execute_result",
          "data": {
            "text/plain": [
              "[(0.7968248819660304, ('Sex', 'Rank', 'Year', 'Degree', 'YSdeg')),\n",
              " (0.7872092866034841, ('Sex', 'Rank', 'Year', 'YSdeg')),\n",
              " (0.7857914167129874, ('Rank', 'Year', 'Degree', 'YSdeg')),\n",
              " (0.7812953737007231, ('Rank', 'Year', 'YSdeg')),\n",
              " (0.7811304025138202, ('Sex', 'Rank', 'Year', 'Degree')),\n",
              " (0.7809344717080977, ('Sex', 'Rank', 'Year')),\n",
              " (0.7783076155381674, ('Rank', 'Year', 'Degree')),\n",
              " (0.778125545829645, ('Rank', 'Year')),\n",
              " (0.7267866959953191, ('Sex', 'Rank', 'Degree', 'YSdeg')),\n",
              " (0.7266289950954575, ('Sex', 'Rank', 'Degree')),\n",
              " (0.7263171650507368, ('Rank', 'Degree', 'YSdeg')),\n",
              " (0.7262952984826756, ('Rank', 'Degree')),\n",
              " (0.7237917566538923, ('Sex', 'Rank', 'YSdeg')),\n",
              " (0.7237599305119999, ('Rank', 'YSdeg')),\n",
              " (0.7224004990910746, ('Sex', 'Rank')),\n",
              " (0.7221603677648399, ('Rank',)),\n",
              " (0.5211388967522834, ('Sex', 'Year', 'Degree', 'YSdeg')),\n",
              " (0.5106317178170396, ('Year', 'Degree', 'YSdeg')),\n",
              " (0.47582422204482056, ('Sex', 'Degree', 'YSdeg')),\n",
              " (0.46515893607776626, ('Sex', 'Year', 'YSdeg')),\n",
              " (0.46069130390981783, ('Year', 'YSdeg')),\n",
              " (0.4448739733320235, ('Degree', 'YSdeg')),\n",
              " (0.4042796870122093, ('Sex', 'YSdeg')),\n",
              " (0.38329194186217797, ('YSdeg',)),\n",
              " (0.3261084635012448, ('Sex', 'Year', 'Degree')),\n",
              " (0.325988256704955, ('Sex', 'Year')),\n",
              " (0.3254725885685441, ('Year', 'Degree')),\n",
              " (0.32534791979498534, ('Year',)),\n",
              " (0.019252695844517165, ('Sex', 'Degree')),\n",
              " (0.01327225187005543, ('Degree',)),\n",
              " (0.006877700561349731, ('Sex',))]"
            ]
          },
          "metadata": {},
          "execution_count": 56
        }
      ]
    },
    {
      "cell_type": "markdown",
      "source": [
        "#Salary Discrimination, Task 3 – Important Result"
      ],
      "metadata": {
        "id": "50sLryT1isyf"
      }
    },
    {
      "cell_type": "markdown",
      "source": [
        "Again, we see that Sex has no direct influence on Salary: score of 0.0068777005613497311."
      ],
      "metadata": {
        "id": "-ZcmbwQsivmF"
      }
    },
    {
      "cell_type": "code",
      "source": [
        "df_10.pivot_table(index=df_10.index, columns='Sex', values='Salary') \\\n",
        "    .plot(kind='hist', alpha=0.7, stacked=True, bins=20,\n",
        "          title='Salary by Sex, Max 10 Years at Current Rank')\n",
        "plt.xlabel('Dollars')\n",
        "plt.ylabel('Faculty')\n",
        "plt.show()"
      ],
      "metadata": {
        "colab": {
          "base_uri": "https://localhost:8080/",
          "height": 295
        },
        "id": "vGjJhHmMij7w",
        "outputId": "7758efe6-ea31-4699-9e1c-61e113f88811"
      },
      "execution_count": 59,
      "outputs": [
        {
          "output_type": "display_data",
          "data": {
            "text/plain": [
              "<Figure size 432x288 with 1 Axes>"
            ],
            "image/png": "[encoded data removed]"
          },
          "metadata": {
            "needs_background": "light"
          }
        }
      ]
    },
    {
      "cell_type": "code",
      "source": [
        "df_10.pivot_table(index=df_10.index, columns='Sex', values='Rank') \\\n",
        "    .plot(kind='hist', alpha=0.7, stacked=True, \n",
        "          title='Rank by Sex, Max 10 Years at Current Rank')\n",
        "plt.xticks([1,2,3])\n",
        "plt.xlabel('Dollars')\n",
        "plt.ylabel('Faculty')\n",
        "plt.show()"
      ],
      "metadata": {
        "colab": {
          "base_uri": "https://localhost:8080/",
          "height": 295
        },
        "id": "Eej_SCkaiyhn",
        "outputId": "c4c3db4f-9113-4075-d6eb-07e09bb06a03"
      },
      "execution_count": 60,
      "outputs": [
        {
          "output_type": "display_data",
          "data": {
            "text/plain": [
              "<Figure size 432x288 with 1 Axes>"
            ],
            "image/png": "[encoded data removed]"
          },
          "metadata": {
            "needs_background": "light"
          }
        }
      ]
    },
    {
      "cell_type": "markdown",
      "source": [
        "The data show that there is no direct salary discrimination by sex; however, we should investigate the single largest influencer of salary—Rank."
      ],
      "metadata": {
        "id": "yb5yBWbqjAGr"
      }
    },
    {
      "cell_type": "code",
      "source": [
        "rank_discrim_cols = ['Sex', 'Year', 'Degree', 'YSdeg']\n",
        "combos_rank = get_combos(rank_discrim_cols)\n",
        "combo_rank_scores = all_combo_scores(combos_rank, df_10, 'Rank')\n",
        "sorted(combo_rank_scores.items(), key=lambda c: c[0], reverse=True)"
      ],
      "metadata": {
        "colab": {
          "base_uri": "https://localhost:8080/"
        },
        "id": "9DQjNRbQi88C",
        "outputId": "73430455-336f-40f6-8065-c72a8388bc55"
      },
      "execution_count": 62,
      "outputs": [
        {
          "output_type": "execute_result",
          "data": {
            "text/plain": [
              "[(0.6684776318082726, ('Sex', 'Year', 'Degree', 'YSdeg')),\n",
              " (0.6650836168279376, ('Sex', 'Degree', 'YSdeg')),\n",
              " (0.6123237979933462, ('Year', 'Degree', 'YSdeg')),\n",
              " (0.6121040013037699, ('Degree', 'YSdeg')),\n",
              " (0.5169568608935469, ('Sex', 'Year', 'YSdeg')),\n",
              " (0.5169178279759162, ('Sex', 'YSdeg')),\n",
              " (0.4848731472423391, ('Year', 'YSdeg')),\n",
              " (0.48257642674080226, ('YSdeg',)),\n",
              " (0.17754355818252243, ('Sex', 'Year', 'Degree')),\n",
              " (0.17641648396278564, ('Sex', 'Year')),\n",
              " (0.17613062148611913, ('Year', 'Degree')),\n",
              " (0.17502353196257248, ('Year',)),\n",
              " (0.016344674690073613, ('Sex', 'Degree')),\n",
              " (0.013387066889012145, ('Sex',)),\n",
              " (0.0036042103162727823, ('Degree',))]"
            ]
          },
          "metadata": {},
          "execution_count": 62
        }
      ]
    },
    {
      "cell_type": "markdown",
      "source": [
        "#Salary Discrimination, Task 3 Conclusion"
      ],
      "metadata": {
        "id": "mtYVlMdpjfNj"
      }
    },
    {
      "cell_type": "markdown",
      "source": [
        "Even looking at the influencers of Rank, looking only at those who have been at their present rank for 10 years or less, there is no correlation with Sex. There is no salary discrimination by Sex."
      ],
      "metadata": {
        "id": "5dwyUWQHjksG"
      }
    },
    {
      "cell_type": "code",
      "source": [
        ""
      ],
      "metadata": {
        "id": "1o5IeU9NjEpO"
      },
      "execution_count": null,
      "outputs": []
    }
  ],
  "metadata": {
    "kernelspec": {
      "display_name": "Python 3",
      "language": "python",
      "name": "python3"
    },
    "language_info": {
      "codemirror_mode": {
        "name": "ipython",
        "version": 3
      },
      "file_extension": ".py",
      "mimetype": "text/x-python",
      "name": "python",
      "nbconvert_exporter": "python",
      "pygments_lexer": "ipython3",
      "version": "3.8.3"
    },
    "colab": {
      "name": "Task_5_6_7.ipynb",
      "provenance": []
    }
  },
  "nbformat": 4,
  "nbformat_minor": 0
}